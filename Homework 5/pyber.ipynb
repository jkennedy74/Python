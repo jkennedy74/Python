{
 "cells": [
  {
   "cell_type": "markdown",
   "metadata": {},
   "source": [
    "## Pyber Analysis and Plot\n"
   ]
  },
  {
   "cell_type": "code",
   "execution_count": 1,
   "metadata": {},
   "outputs": [],
   "source": [
    "import pandas as pd\n",
    "import numpy as np\n",
    "import matplotlib.pyplot as plt\n",
    "from matplotlib.colors import ListedColormap\n",
    "import seaborn as sns\n",
    "    "
   ]
  },
  {
   "cell_type": "code",
   "execution_count": 2,
   "metadata": {},
   "outputs": [
    {
     "data": {
      "text/html": [
       "<div>\n",
       "<style scoped>\n",
       "    .dataframe tbody tr th:only-of-type {\n",
       "        vertical-align: middle;\n",
       "    }\n",
       "\n",
       "    .dataframe tbody tr th {\n",
       "        vertical-align: top;\n",
       "    }\n",
       "\n",
       "    .dataframe thead th {\n",
       "        text-align: right;\n",
       "    }\n",
       "</style>\n",
       "<table border=\"1\" class=\"dataframe\">\n",
       "  <thead>\n",
       "    <tr style=\"text-align: right;\">\n",
       "      <th></th>\n",
       "      <th>city</th>\n",
       "      <th>driver_count</th>\n",
       "      <th>type</th>\n",
       "    </tr>\n",
       "  </thead>\n",
       "  <tbody>\n",
       "    <tr>\n",
       "      <th>0</th>\n",
       "      <td>Kelseyland</td>\n",
       "      <td>63</td>\n",
       "      <td>Urban</td>\n",
       "    </tr>\n",
       "    <tr>\n",
       "      <th>1</th>\n",
       "      <td>Nguyenbury</td>\n",
       "      <td>8</td>\n",
       "      <td>Urban</td>\n",
       "    </tr>\n",
       "    <tr>\n",
       "      <th>2</th>\n",
       "      <td>East Douglas</td>\n",
       "      <td>12</td>\n",
       "      <td>Urban</td>\n",
       "    </tr>\n",
       "    <tr>\n",
       "      <th>3</th>\n",
       "      <td>West Dawnfurt</td>\n",
       "      <td>34</td>\n",
       "      <td>Urban</td>\n",
       "    </tr>\n",
       "    <tr>\n",
       "      <th>4</th>\n",
       "      <td>Rodriguezburgh</td>\n",
       "      <td>52</td>\n",
       "      <td>Urban</td>\n",
       "    </tr>\n",
       "  </tbody>\n",
       "</table>\n",
       "</div>"
      ],
      "text/plain": [
       "             city  driver_count   type\n",
       "0      Kelseyland            63  Urban\n",
       "1      Nguyenbury             8  Urban\n",
       "2    East Douglas            12  Urban\n",
       "3   West Dawnfurt            34  Urban\n",
       "4  Rodriguezburgh            52  Urban"
      ]
     },
     "execution_count": 2,
     "metadata": {},
     "output_type": "execute_result"
    }
   ],
   "source": [
    "c_df = pd.read_csv(\"Resources/city_data.csv\")\n",
    "c_df.head()"
   ]
  },
  {
   "cell_type": "code",
   "execution_count": 3,
   "metadata": {},
   "outputs": [
    {
     "data": {
      "text/html": [
       "<div>\n",
       "<style scoped>\n",
       "    .dataframe tbody tr th:only-of-type {\n",
       "        vertical-align: middle;\n",
       "    }\n",
       "\n",
       "    .dataframe tbody tr th {\n",
       "        vertical-align: top;\n",
       "    }\n",
       "\n",
       "    .dataframe thead th {\n",
       "        text-align: right;\n",
       "    }\n",
       "</style>\n",
       "<table border=\"1\" class=\"dataframe\">\n",
       "  <thead>\n",
       "    <tr style=\"text-align: right;\">\n",
       "      <th></th>\n",
       "      <th>city</th>\n",
       "      <th>date</th>\n",
       "      <th>fare</th>\n",
       "      <th>ride_id</th>\n",
       "    </tr>\n",
       "  </thead>\n",
       "  <tbody>\n",
       "    <tr>\n",
       "      <th>0</th>\n",
       "      <td>Sarabury</td>\n",
       "      <td>2016-01-16 13:49:27</td>\n",
       "      <td>38.35</td>\n",
       "      <td>5403689035038</td>\n",
       "    </tr>\n",
       "    <tr>\n",
       "      <th>1</th>\n",
       "      <td>South Roy</td>\n",
       "      <td>2016-01-02 18:42:34</td>\n",
       "      <td>17.49</td>\n",
       "      <td>4036272335942</td>\n",
       "    </tr>\n",
       "    <tr>\n",
       "      <th>2</th>\n",
       "      <td>Wiseborough</td>\n",
       "      <td>2016-01-21 17:35:29</td>\n",
       "      <td>44.18</td>\n",
       "      <td>3645042422587</td>\n",
       "    </tr>\n",
       "    <tr>\n",
       "      <th>3</th>\n",
       "      <td>Spencertown</td>\n",
       "      <td>2016-07-31 14:53:22</td>\n",
       "      <td>6.87</td>\n",
       "      <td>2242596575892</td>\n",
       "    </tr>\n",
       "    <tr>\n",
       "      <th>4</th>\n",
       "      <td>Nguyenbury</td>\n",
       "      <td>2016-07-09 04:42:44</td>\n",
       "      <td>6.28</td>\n",
       "      <td>1543057793673</td>\n",
       "    </tr>\n",
       "  </tbody>\n",
       "</table>\n",
       "</div>"
      ],
      "text/plain": [
       "          city                 date   fare        ride_id\n",
       "0     Sarabury  2016-01-16 13:49:27  38.35  5403689035038\n",
       "1    South Roy  2016-01-02 18:42:34  17.49  4036272335942\n",
       "2  Wiseborough  2016-01-21 17:35:29  44.18  3645042422587\n",
       "3  Spencertown  2016-07-31 14:53:22   6.87  2242596575892\n",
       "4   Nguyenbury  2016-07-09 04:42:44   6.28  1543057793673"
      ]
     },
     "execution_count": 3,
     "metadata": {},
     "output_type": "execute_result"
    }
   ],
   "source": [
    "r_df = pd.read_csv(\"Resources/ride_data.csv\")\n",
    "r_df.head()"
   ]
  },
  {
   "cell_type": "code",
   "execution_count": null,
   "metadata": {},
   "outputs": [],
   "source": []
  },
  {
   "cell_type": "markdown",
   "metadata": {},
   "source": [
    "#### Define values\n",
    "-  Average Fare ($) Per City\n",
    "-  Total Number of Rides Per City\n",
    "-  Total Number of Drivers Per City\n",
    "-  City Type (Urban, Suburban, Rural)"
   ]
  },
  {
   "cell_type": "code",
   "execution_count": 4,
   "metadata": {},
   "outputs": [
    {
     "data": {
      "text/html": [
       "<div>\n",
       "<style scoped>\n",
       "    .dataframe tbody tr th:only-of-type {\n",
       "        vertical-align: middle;\n",
       "    }\n",
       "\n",
       "    .dataframe tbody tr th {\n",
       "        vertical-align: top;\n",
       "    }\n",
       "\n",
       "    .dataframe thead th {\n",
       "        text-align: right;\n",
       "    }\n",
       "</style>\n",
       "<table border=\"1\" class=\"dataframe\">\n",
       "  <thead>\n",
       "    <tr style=\"text-align: right;\">\n",
       "      <th></th>\n",
       "      <th>city</th>\n",
       "      <th>average_fare</th>\n",
       "      <th>Total Fare</th>\n",
       "      <th>Total Rides</th>\n",
       "    </tr>\n",
       "  </thead>\n",
       "  <tbody>\n",
       "    <tr>\n",
       "      <th>0</th>\n",
       "      <td>Alvarezhaven</td>\n",
       "      <td>23.928710</td>\n",
       "      <td>741.79</td>\n",
       "      <td>31</td>\n",
       "    </tr>\n",
       "    <tr>\n",
       "      <th>1</th>\n",
       "      <td>Alyssaberg</td>\n",
       "      <td>20.609615</td>\n",
       "      <td>535.85</td>\n",
       "      <td>26</td>\n",
       "    </tr>\n",
       "    <tr>\n",
       "      <th>2</th>\n",
       "      <td>Anitamouth</td>\n",
       "      <td>37.315556</td>\n",
       "      <td>335.84</td>\n",
       "      <td>9</td>\n",
       "    </tr>\n",
       "    <tr>\n",
       "      <th>3</th>\n",
       "      <td>Antoniomouth</td>\n",
       "      <td>23.625000</td>\n",
       "      <td>519.75</td>\n",
       "      <td>22</td>\n",
       "    </tr>\n",
       "    <tr>\n",
       "      <th>4</th>\n",
       "      <td>Aprilchester</td>\n",
       "      <td>21.981579</td>\n",
       "      <td>417.65</td>\n",
       "      <td>19</td>\n",
       "    </tr>\n",
       "  </tbody>\n",
       "</table>\n",
       "</div>"
      ],
      "text/plain": [
       "           city  average_fare  Total Fare  Total Rides\n",
       "0  Alvarezhaven     23.928710      741.79           31\n",
       "1    Alyssaberg     20.609615      535.85           26\n",
       "2    Anitamouth     37.315556      335.84            9\n",
       "3  Antoniomouth     23.625000      519.75           22\n",
       "4  Aprilchester     21.981579      417.65           19"
      ]
     },
     "execution_count": 4,
     "metadata": {},
     "output_type": "execute_result"
    }
   ],
   "source": [
    "g_df = pd.DataFrame(r_df.groupby(by=\"city\")[\"fare\"].mean())\n",
    "g_df.rename(columns={'fare': 'average_fare'},inplace=True)\n",
    "g_df[\"Total Fare\"] = r_df.groupby(by = 'city')[\"fare\"].sum()\n",
    "g_df[\"Total Rides\"] = r_df.groupby(by= \"city\")[\"ride_id\"].nunique()\n",
    "g_df.reset_index(level = 0, inplace = True)\n",
    "\n",
    "\n",
    "g_df.head()"
   ]
  },
  {
   "cell_type": "code",
   "execution_count": 5,
   "metadata": {
    "scrolled": true
   },
   "outputs": [
    {
     "data": {
      "text/html": [
       "<div>\n",
       "<style scoped>\n",
       "    .dataframe tbody tr th:only-of-type {\n",
       "        vertical-align: middle;\n",
       "    }\n",
       "\n",
       "    .dataframe tbody tr th {\n",
       "        vertical-align: top;\n",
       "    }\n",
       "\n",
       "    .dataframe thead th {\n",
       "        text-align: right;\n",
       "    }\n",
       "</style>\n",
       "<table border=\"1\" class=\"dataframe\">\n",
       "  <thead>\n",
       "    <tr style=\"text-align: right;\">\n",
       "      <th></th>\n",
       "      <th>City</th>\n",
       "      <th>Total Drivers</th>\n",
       "      <th>City Type</th>\n",
       "      <th>Average Fare</th>\n",
       "      <th>Total Fare</th>\n",
       "      <th>Total Rides</th>\n",
       "    </tr>\n",
       "  </thead>\n",
       "  <tbody>\n",
       "    <tr>\n",
       "      <th>0</th>\n",
       "      <td>Kelseyland</td>\n",
       "      <td>63</td>\n",
       "      <td>Urban</td>\n",
       "      <td>21.806429</td>\n",
       "      <td>610.58</td>\n",
       "      <td>28</td>\n",
       "    </tr>\n",
       "    <tr>\n",
       "      <th>1</th>\n",
       "      <td>Nguyenbury</td>\n",
       "      <td>8</td>\n",
       "      <td>Urban</td>\n",
       "      <td>25.899615</td>\n",
       "      <td>673.39</td>\n",
       "      <td>26</td>\n",
       "    </tr>\n",
       "    <tr>\n",
       "      <th>2</th>\n",
       "      <td>East Douglas</td>\n",
       "      <td>12</td>\n",
       "      <td>Urban</td>\n",
       "      <td>26.169091</td>\n",
       "      <td>575.72</td>\n",
       "      <td>22</td>\n",
       "    </tr>\n",
       "    <tr>\n",
       "      <th>3</th>\n",
       "      <td>West Dawnfurt</td>\n",
       "      <td>34</td>\n",
       "      <td>Urban</td>\n",
       "      <td>22.330345</td>\n",
       "      <td>647.58</td>\n",
       "      <td>29</td>\n",
       "    </tr>\n",
       "    <tr>\n",
       "      <th>4</th>\n",
       "      <td>Rodriguezburgh</td>\n",
       "      <td>52</td>\n",
       "      <td>Urban</td>\n",
       "      <td>21.332609</td>\n",
       "      <td>490.65</td>\n",
       "      <td>23</td>\n",
       "    </tr>\n",
       "  </tbody>\n",
       "</table>\n",
       "</div>"
      ],
      "text/plain": [
       "             City  Total Drivers City Type  Average Fare  Total Fare  \\\n",
       "0      Kelseyland             63     Urban     21.806429      610.58   \n",
       "1      Nguyenbury              8     Urban     25.899615      673.39   \n",
       "2    East Douglas             12     Urban     26.169091      575.72   \n",
       "3   West Dawnfurt             34     Urban     22.330345      647.58   \n",
       "4  Rodriguezburgh             52     Urban     21.332609      490.65   \n",
       "\n",
       "   Total Rides  \n",
       "0           28  \n",
       "1           26  \n",
       "2           22  \n",
       "3           29  \n",
       "4           23  "
      ]
     },
     "execution_count": 5,
     "metadata": {},
     "output_type": "execute_result"
    }
   ],
   "source": [
    "# Put what I want to plot in a df.\n",
    "plot_df = c_df.merge(g_df, how='inner', on='city')\n",
    "plot_df.rename(columns={'type': 'City Type'},inplace=True)\n",
    "plot_df.rename(columns={'city': 'City'},inplace=True)\n",
    "plot_df.rename(columns={'driver_count': 'Total Drivers'},inplace=True)\n",
    "plot_df.rename(columns={'average_fare': 'Average Fare'},inplace=True)\n",
    "\n",
    "plot_df.head()"
   ]
  },
  {
   "cell_type": "markdown",
   "metadata": {},
   "source": [
    "#### Build a Bubble Plot that showcases the relationship between the metrics collected."
   ]
  },
  {
   "cell_type": "code",
   "execution_count": 18,
   "metadata": {},
   "outputs": [
    {
     "data": {
      "image/png": "[encoded data removed]",
      "text/plain": [
       "<matplotlib.figure.Figure at 0x1cf51865c18>"
      ]
     },
     "metadata": {},
     "output_type": "display_data"
    }
   ],
   "source": [
    "x_axis=np.arange(0,41,5)\n",
    "y_axis=np.arange(15,50,5)\n",
    "colors = [\"lightcoral\", \"lightblue\", \"gold\"]\n",
    "sns.palplot(sns.color_palette(colors))\n",
    "\n",
    "ax = sns.stripplot(x=plot_df[\"Total Rides\"], y = plot_df[\"Average Fare\"],hue=plot_df['City Type'],\n",
    "                   edgecolor=\"black\" ,palette=colors, s = plot_df[\"Total Drivers\"]*.3, alpha = .50 )\n",
    "                   \n",
    "ax.set_title(\"Pyber Analysis:  Total Fares by City Type\", fontsize=16)\n",
    "ax.set_xlabel(\"Total Rides\",fontsize=14)\n",
    "ax.set_ylabel('Average Fare',fontsize=14)\n",
    "\n",
    "\n",
    "ax.set_xlim(0,40)\n",
    "ax.set_ylim(15,45)\n",
    "ax.set_xticks(x_axis)\n",
    "ax.set_xticklabels(x_axis)\n",
    "ax.set_yticks(y_axis)\n",
    "ax.set_yticklabels(y_axis)\n",
    "ax.figure.set_size_inches(6,5)\n",
    "plt.text(45, 30, r'Note:  Circle size correlates to the total drivers in a city.')\n",
    "\n",
    "plt.show()\n",
    "\n"
   ]
  },
  {
   "cell_type": "markdown",
   "metadata": {},
   "source": [
    "#### Observable Trend 1\n",
    "\n",
    "Urban rides were clustered in the lower right area of the quadrant which means that while there were more rides they generally had smaller fares.  This is likely due to urban Pyber users likely are taking short trips.  On the other end of the spectrum are rural Pyber users that took much fewer rides but averaged higher fares.  There are fewer rides for rural drivers because most rural people have their own vehicles (personal observation) and if they do take a Pyber, they likely are taking longer trips (into town or on the way back from town)."
   ]
  },
  {
   "cell_type": "markdown",
   "metadata": {},
   "source": [
    "#### Produce Pie Charts showing the following:\n",
    "-  % of Total Fares by City Type\n",
    "-  % of Total Rides by City Type\n",
    "-  % of Total Drivers by City Type"
   ]
  },
  {
   "cell_type": "code",
   "execution_count": 22,
   "metadata": {},
   "outputs": [
    {
     "name": "stdout",
     "output_type": "stream",
     "text": [
      "City Type\n",
      "Rural        4255.09\n",
      "Suburban    20335.69\n",
      "Urban       40078.34\n",
      "Name: Total Fare, dtype: float64\n"
     ]
    },
    {
     "data": {
      "image/png": "[encoded data removed]",
      "text/plain": [
       "<matplotlib.figure.Figure at 0x1cf51c6f9b0>"
      ]
     },
     "metadata": {},
     "output_type": "display_data"
    }
   ],
   "source": [
    "# % of Total Fares by City Type\n",
    "total_fares = plot_df.groupby(by=\"City Type\")[\"Total Fare\"].sum()\n",
    "print(total_fares)\n",
    "labels = ['Rural','Suburban','Urban']\n",
    "\n",
    "plt.pie(total_fares, shadow=True, startangle=180)\n",
    "plt.pie(total_fares, colors=colors,autopct='%1.0f%%', labels=labels,shadow=True)\n",
    "plt.title(\"Total Fares by City Type (%)\")\n",
    "plt.show()\n"
   ]
  },
  {
   "cell_type": "markdown",
   "metadata": {},
   "source": [
    "#### Observable Trend 2\n",
    "As expected fares follow population.  While urban Pyber users _averaged_ a smaller fare, they took many more rides.  Both the population as well as the number of drivers contribute of this."
   ]
  },
  {
   "cell_type": "code",
   "execution_count": 27,
   "metadata": {},
   "outputs": [
    {
     "name": "stdout",
     "output_type": "stream",
     "text": [
      "City Type\n",
      "Rural        125\n",
      "Suburban     657\n",
      "Urban       1625\n",
      "Name: Total Rides, dtype: int64\n"
     ]
    },
    {
     "data": {
      "image/png": "[encoded data removed]",
      "text/plain": [
       "<matplotlib.figure.Figure at 0x1cf518e4780>"
      ]
     },
     "metadata": {},
     "output_type": "display_data"
    }
   ],
   "source": [
    "# % of Total Rides by City Type\n",
    "total_rides = plot_df.groupby(by=\"City Type\")[\"Total Rides\"].sum()\n",
    "print(total_rides)\n",
    "\n",
    "plt.pie(total_rides, shadow=True, startangle=90)\n",
    "plt.pie(total_rides, colors=colors,autopct='%1.0f%%', labels=labels,shadow=True)\n",
    "plt.title(\"Total Rides by City Type (%)\")\n",
    "plt.show()"
   ]
  },
  {
   "cell_type": "markdown",
   "metadata": {},
   "source": [
    "#### Observable Trend 3\n",
    "Urban riders took 39% more rides than suburban riders.  This is due to population, availability of drivers, and the fact that people living outside of the urban areas typically have their own vehicles.  "
   ]
  },
  {
   "cell_type": "code",
   "execution_count": 29,
   "metadata": {},
   "outputs": [
    {
     "name": "stdout",
     "output_type": "stream",
     "text": [
      "City Type\n",
      "Rural        104\n",
      "Suburban     638\n",
      "Urban       2607\n",
      "Name: Total Drivers, dtype: int64\n"
     ]
    },
    {
     "data": {
      "image/png": "[encoded data removed]",
      "text/plain": [
       "<matplotlib.figure.Figure at 0x1cf52acec50>"
      ]
     },
     "metadata": {},
     "output_type": "display_data"
    }
   ],
   "source": [
    "# % of Total Drivers by City Type\n",
    "total_drivers = plot_df.groupby(by=\"City Type\")[\"Total Drivers\"].sum()\n",
    "print(total_drivers)\n",
    "\n",
    "plt.pie(total_drivers, shadow=True, startangle=90)\n",
    "plt.pie(total_drivers, colors=colors,autopct='%1.0f%%', labels=labels,shadow=True)\n",
    "plt.title(\"Total Drivers by City Type (%)\")\n",
    "plt.show()"
   ]
  }
 ],
 "metadata": {
  "kernelspec": {
   "display_name": "Python 3",
   "language": "python",
   "name": "python3"
  },
  "language_info": {
   "codemirror_mode": {
    "name": "ipython",
    "version": 3
   },
   "file_extension": ".py",
   "mimetype": "text/x-python",
   "name": "python",
   "nbconvert_exporter": "python",
   "pygments_lexer": "ipython3",
   "version": "3.6.4"
  }
 },
 "nbformat": 4,
 "nbformat_minor": 2
}
