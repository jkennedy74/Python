{
 "cells": [
  {
   "cell_type": "code",
   "execution_count": null,
   "metadata": {},
   "outputs": [],
   "source": [
    "import pandas as pd"
   ]
  },
  {
   "cell_type": "code",
   "execution_count": null,
   "metadata": {},
   "outputs": [],
   "source": [
    "# The path to our CSV file\n",
    "file = \"Resources/KickstarterData.csv\"\n",
    "\n",
    "# Read our Kickstarter data into pandas\n",
    "df = pd.read_csv(file)\n",
    "df.head()"
   ]
  },
  {
   "cell_type": "code",
   "execution_count": null,
   "metadata": {},
   "outputs": [],
   "source": [
    "# Get a list of all of our columns for easy reference\n",
    "df.columns"
   ]
  },
  {
   "cell_type": "code",
   "execution_count": null,
   "metadata": {
    "scrolled": true
   },
   "outputs": [],
   "source": [
    "# Extract \"name\", \"goal\", \"pledged\", \"state\", \"country\", \"staff_pick\",\n",
    "# \"backers_count\", and \"spotlight\"\n",
    "reduced_kickstarter_df = df.loc[:, [\"name\", \"goal\", \"pledged\",\n",
    "                                    \"state\", \"country\", \"staff_pick\", \"backers_count\", \"spotlight\"]]\n",
    "reduced_kickstarter_df"
   ]
  },
  {
   "cell_type": "code",
   "execution_count": null,
   "metadata": {
    "scrolled": true
   },
   "outputs": [],
   "source": [
    "# Remove projects that made no money at all\n",
    "reduced_kickstarter_df = reduced_kickstarter_df.loc[(\n",
    "    reduced_kickstarter_df[\"pledged\"] > 0)]\n",
    "reduced_kickstarter_df.head()"
   ]
  },
  {
   "cell_type": "code",
   "execution_count": null,
   "metadata": {
    "scrolled": true
   },
   "outputs": [],
   "source": [
    "# Collect only those projects that were hosted in the US\n",
    "hosted_in_us = reduced_kickstarter_df.loc[reduced_kickstarter_df[\"country\"] == \"US\"]\n",
    "hosted_in_us.head()"
   ]
  },
  {
   "cell_type": "code",
   "execution_count": null,
   "metadata": {},
   "outputs": [],
   "source": [
    "# Create a new column that finds the average amount pledged to a project\n",
    "hosted_in_us[\"average_donation\"] = hosted_in_us['pledged'] / \\\n",
    "    hosted_in_us['backers_count']\n",
    "hosted_in_us.head()"
   ]
  },
  {
   "cell_type": "code",
   "execution_count": null,
   "metadata": {},
   "outputs": [],
   "source": [
    "# Format our \"average_donation\", \"goal\", and \"pledged\" columns\n",
    "# to go to two decimal places, include a dollar sign, and use comma notation\n",
    "hosted_in_us[\"average_donation\"] = hosted_in_us[\"average_donation\"].map(\n",
    "    \"${:,.2f}\".format)\n",
    "hosted_in_us[\"goal\"] = hosted_in_us[\"goal\"].map(\"${:,.2f}\".format)\n",
    "hosted_in_us[\"pledged\"] = hosted_in_us[\"pledged\"].map(\"${:,.2f}\".format)\n",
    "hosted_in_us.head()"
   ]
  },
  {
   "cell_type": "code",
   "execution_count": null,
   "metadata": {},
   "outputs": [],
   "source": [
    "# Calculate the total number of backers for all US projects\n",
    "hosted_in_us[\"backers_count\"].sum()"
   ]
  },
  {
   "cell_type": "code",
   "execution_count": null,
   "metadata": {},
   "outputs": [],
   "source": [
    "# Calculate the average number of backers for all US projects\n",
    "hosted_in_us[\"backers_count\"].mean()"
   ]
  },
  {
   "cell_type": "code",
   "execution_count": null,
   "metadata": {
    "scrolled": true
   },
   "outputs": [],
   "source": [
    "# Collect only those US campaigns that have been picked as a \"Staff Pick\"\n",
    "picked_by_staff = hosted_in_us.loc[hosted_in_us[\"staff_pick\"] == True]\n",
    "picked_by_staff"
   ]
  },
  {
   "cell_type": "code",
   "execution_count": null,
   "metadata": {},
   "outputs": [],
   "source": [
    "# Group by the state of the campaigns and see if staff picks matter (Seems to matter quite a bit)\n",
    "state_groups = picked_by_staff.groupby(\"state\")\n",
    "state_groups[\"name\"].count()"
   ]
  }
 ],
 "metadata": {
  "kernelspec": {
   "display_name": "Python 3",
   "language": "python",
   "name": "python3"
  },
  "language_info": {
   "codemirror_mode": {
    "name": "ipython",
    "version": 3
   },
   "file_extension": ".py",
   "mimetype": "text/x-python",
   "name": "python",
   "nbconvert_exporter": "python",
   "pygments_lexer": "ipython3",
   "version": "3.6.4"
  }
 },
 "nbformat": 4,
 "nbformat_minor": 2
}
