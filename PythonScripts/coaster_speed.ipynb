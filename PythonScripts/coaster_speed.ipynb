{
 "cells": [
  {
   "cell_type": "code",
   "execution_count": 21,
   "metadata": {},
   "outputs": [],
   "source": [
    "%matplotlib qt\n",
    "import numpy as np\n",
    "import matplotlib.pyplot as plt"
   ]
  },
  {
   "cell_type": "code",
   "execution_count": 22,
   "metadata": {},
   "outputs": [
    {
     "data": {
      "text/plain": [
       "[9, 8, 90, 85, 80, 70, 70, 65, 55, 60, 70, 65, 50]"
      ]
     },
     "execution_count": 22,
     "metadata": {},
     "output_type": "execute_result"
    }
   ],
   "source": [
    "DD = [9, 8, 90, 85, 80, 70, 70, 65, 55, 60, 70, 65, 50]\n",
    "DD"
   ]
  },
  {
   "cell_type": "code",
   "execution_count": 23,
   "metadata": {},
   "outputs": [
    {
     "data": {
      "text/plain": [
       "[75, 70, 60, 65, 60, 45, 55, 50, 40, 40, 35, 35, 30]"
      ]
     },
     "execution_count": 23,
     "metadata": {},
     "output_type": "execute_result"
    }
   ],
   "source": [
    "RG = [75, 70, 60, 65, 60, 45, 55, 50, 40, 40, 35, 35, 30]\n",
    "RG"
   ]
  },
  {
   "cell_type": "code",
   "execution_count": 24,
   "metadata": {},
   "outputs": [],
   "source": [
    "#   * Both coasters are 120 seconds long and the speed was measured every 10 seconds.\n",
    "T = np.arange(0, 130, 10)"
   ]
  },
  {
   "cell_type": "code",
   "execution_count": 26,
   "metadata": {},
   "outputs": [],
   "source": [
    "handle_D, = plt.plot(T, DD, 'r', lw=1, ls='-', label='DD')\n",
    "handle_R, = plt.plot(T, RG, 'g', lw=1, ls='-', label='RG')\n",
    "plt.legend([handle_D, handle_R], ['Danger Drop','RailGun'])\n",
    "plt.title('Coaster Speed Over Time')\n",
    "plt.xlabel('Coaster Runtime')\n",
    "plt.ylabel('Speed MPH')\n",
    "plt.grid()\n",
    "plt.xlim(0,120)\n",
    "plt.ylim(5,95)\n",
    "plt.show()"
   ]
  },
  {
   "cell_type": "code",
   "execution_count": null,
   "metadata": {},
   "outputs": [],
   "source": []
  }
 ],
 "metadata": {
  "kernelspec": {
   "display_name": "Python 3",
   "language": "python",
   "name": "python3"
  },
  "language_info": {
   "codemirror_mode": {
    "name": "ipython",
    "version": 3
   },
   "file_extension": ".py",
   "mimetype": "text/x-python",
   "name": "python",
   "nbconvert_exporter": "python",
   "pygments_lexer": "ipython3",
   "version": "3.6.4"
  }
 },
 "nbformat": 4,
 "nbformat_minor": 2
}
