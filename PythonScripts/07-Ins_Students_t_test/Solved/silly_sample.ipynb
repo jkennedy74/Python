{
 "cells": [
  {
   "cell_type": "code",
   "execution_count": 1,
   "metadata": {},
   "outputs": [],
   "source": [
    "# Dependencies\n",
    "from random import randint\n",
    "import matplotlib.pyplot as plt\n",
    "import numpy as np\n",
    "from scipy.stats import sem"
   ]
  },
  {
   "cell_type": "code",
   "execution_count": 6,
   "metadata": {},
   "outputs": [],
   "source": [
    "# Generate\n",
    "high_prices = [randint(1, 5) * 1000 for x in range(1, 10)]\n",
    "high_means = np.mean(high_prices)\n",
    "high_sem = sem(high_prices)\n",
    "\n",
    "medium_prices = [randint(1, 5) * 500 for x in range(1, 10)]\n",
    "medium_means = np.mean(medium_prices)\n",
    "medium_sem = sem(medium_prices)\n",
    "\n",
    "low_prices = [randint(1, 5) * 200 for x in range(1, 10)]\n",
    "low_means = np.mean(low_prices)\n",
    "low_sem = sem(low_prices)\n",
    "\n",
    "means = [high_means, medium_means, low_means]\n",
    "sems = [high_sem, medium_sem, low_sem]\n",
    "labels = [\"High Prices\", \"Medium Prices\", \"Low Prices\"]"
   ]
  },
  {
   "cell_type": "code",
   "execution_count": 7,
   "metadata": {},
   "outputs": [
    {
     "data": {
      "image/png": "[encoded data removed]",
      "text/plain": [
       "<matplotlib.figure.Figure at 0x10c653c50>"
      ]
     },
     "metadata": {},
     "output_type": "display_data"
    }
   ],
   "source": [
    "# Plot\n",
    "fig, ax = plt.subplots()\n",
    "\n",
    "ax.errorbar(np.arange(0, len(means)), means, yerr=sems, fmt=\"o\")\n",
    "\n",
    "ax.set_xlim(-0.5, 2.5)\n",
    "ax.set_xticklabels(labels)\n",
    "ax.set_xticks([0, 1, 2])\n",
    "\n",
    "ax.set_ylabel(\"Mean House Price\")\n",
    "\n",
    "plt.show()"
   ]
  },
  {
   "cell_type": "code",
   "execution_count": null,
   "metadata": {},
   "outputs": [],
   "source": []
  }
 ],
 "metadata": {
  "kernelspec": {
   "display_name": "Python 3",
   "language": "python",
   "name": "python3"
  },
  "language_info": {
   "codemirror_mode": {
    "name": "ipython",
    "version": 3
   },
   "file_extension": ".py",
   "mimetype": "text/x-python",
   "name": "python",
   "nbconvert_exporter": "python",
   "pygments_lexer": "ipython3",
   "version": "3.6.4"
  }
 },
 "nbformat": 4,
 "nbformat_minor": 2
}
