{
 "cells": [
  {
   "cell_type": "code",
   "execution_count": 1,
   "metadata": {},
   "outputs": [],
   "source": [
    "# Dependencies\n",
    "import requests\n",
    "import json"
   ]
  },
  {
   "cell_type": "code",
   "execution_count": 2,
   "metadata": {},
   "outputs": [],
   "source": [
    "# URL for GET requests to retrieve Star Wars character data\n",
    "base_url = \"https://swapi.co/api/people/\""
   ]
  },
  {
   "cell_type": "code",
   "execution_count": 3,
   "metadata": {},
   "outputs": [
    {
     "name": "stdout",
     "output_type": "stream",
     "text": [
      "https://swapi.co/api/people/4\n"
     ]
    }
   ],
   "source": [
    "# Create a url with a specific character id\n",
    "character_id = '4'\n",
    "url = base_url + character_id\n",
    "print(url)"
   ]
  },
  {
   "cell_type": "code",
   "execution_count": 10,
   "metadata": {},
   "outputs": [
    {
     "name": "stdout",
     "output_type": "stream",
     "text": [
      "https://swapi.co/api/people/4/\n",
      "{\n",
      "    \"birth_year\": \"41.9BBY\",\n",
      "    \"created\": \"2014-12-10T15:18:20.704000Z\",\n",
      "    \"edited\": \"2014-12-20T21:17:50.313000Z\",\n",
      "    \"eye_color\": \"yellow\",\n",
      "    \"films\": [\n",
      "        \"https://swapi.co/api/films/2/\",\n",
      "        \"https://swapi.co/api/films/6/\",\n",
      "        \"https://swapi.co/api/films/3/\",\n",
      "        \"https://swapi.co/api/films/1/\"\n",
      "    ],\n",
      "    \"gender\": \"male\",\n",
      "    \"hair_color\": \"none\",\n",
      "    \"height\": \"202\",\n",
      "    \"homeworld\": \"https://swapi.co/api/planets/1/\",\n",
      "    \"mass\": \"136\",\n",
      "    \"name\": \"Darth Vader\",\n",
      "    \"skin_color\": \"white\",\n",
      "    \"species\": [\n",
      "        \"https://swapi.co/api/species/1/\"\n",
      "    ],\n",
      "    \"starships\": [\n",
      "        \"https://swapi.co/api/starships/13/\"\n",
      "    ],\n",
      "    \"url\": \"https://swapi.co/api/people/4/\",\n",
      "    \"vehicles\": []\n",
      "}\n"
     ]
    }
   ],
   "source": [
    "# Perform a get request for this character\n",
    "response = requests.get(url)\n",
    "\n",
    "print(response.url)\n"
   ]
  },
  {
   "cell_type": "code",
   "execution_count": 20,
   "metadata": {},
   "outputs": [
    {
     "name": "stdout",
     "output_type": "stream",
     "text": [
      "<class 'dict'>\n"
     ]
    }
   ],
   "source": [
    "# Storing the JSON response within a variable\n",
    "data = response.json()\n",
    "\n",
    "print(type(data))"
   ]
  },
  {
   "cell_type": "code",
   "execution_count": 21,
   "metadata": {},
   "outputs": [
    {
     "data": {
      "text/plain": [
       "{'birth_year': '41.9BBY',\n",
       " 'created': '2014-12-10T15:18:20.704000Z',\n",
       " 'edited': '2014-12-20T21:17:50.313000Z',\n",
       " 'eye_color': 'yellow',\n",
       " 'films': ['https://swapi.co/api/films/2/',\n",
       "  'https://swapi.co/api/films/6/',\n",
       "  'https://swapi.co/api/films/3/',\n",
       "  'https://swapi.co/api/films/1/'],\n",
       " 'gender': 'male',\n",
       " 'hair_color': 'none',\n",
       " 'height': '202',\n",
       " 'homeworld': 'https://swapi.co/api/planets/1/',\n",
       " 'mass': '136',\n",
       " 'name': 'Darth Vader',\n",
       " 'skin_color': 'white',\n",
       " 'species': ['https://swapi.co/api/species/1/'],\n",
       " 'starships': ['https://swapi.co/api/starships/13/'],\n",
       " 'url': 'https://swapi.co/api/people/4/',\n",
       " 'vehicles': []}"
      ]
     },
     "execution_count": 21,
     "metadata": {},
     "output_type": "execute_result"
    }
   ],
   "source": [
    "data"
   ]
  },
  {
   "cell_type": "code",
   "execution_count": 35,
   "metadata": {},
   "outputs": [
    {
     "name": "stdout",
     "output_type": "stream",
     "text": [
      "Darth Vader\n"
     ]
    }
   ],
   "source": [
    "# Collecting the name of the character collected\n",
    "# YOUR CODE HERE\n",
    "character_name = (data[\"name\"])\n",
    "print(character_name)\n"
   ]
  },
  {
   "cell_type": "code",
   "execution_count": 31,
   "metadata": {},
   "outputs": [
    {
     "name": "stdout",
     "output_type": "stream",
     "text": [
      "4\n"
     ]
    }
   ],
   "source": [
    "movie_count = len(data[\"films\"])\n",
    "print(movie_count)"
   ]
  },
  {
   "cell_type": "code",
   "execution_count": null,
   "metadata": {
    "collapsed": true
   },
   "outputs": [],
   "source": [
    "# Print the character and the number of films that they were in\n",
    "# YOUR CODE HERE\n",
    "\n",
    "print(data[\"name\"] + was in "
   ]
  },
  {
   "cell_type": "code",
   "execution_count": 32,
   "metadata": {},
   "outputs": [
    {
     "name": "stdout",
     "output_type": "stream",
     "text": [
      "https://swapi.co/api/starships/13/\n"
     ]
    }
   ],
   "source": [
    "# Figure out what their first starship was and print the ship\n",
    "# YOUR CODE HERE\n",
    "\n",
    "first_ship = data[\"starships\"][0]\n",
    "print(first_ship)"
   ]
  },
  {
   "cell_type": "code",
   "execution_count": 37,
   "metadata": {},
   "outputs": [
    {
     "name": "stdout",
     "output_type": "stream",
     "text": [
      "Darth Vadervwas in 4 movies.\n",
      "['https://swapi.co/api/films/2/', 'https://swapi.co/api/films/6/', 'https://swapi.co/api/films/3/', 'https://swapi.co/api/films/1/']\n"
     ]
    }
   ],
   "source": [
    "    # Print character name and how many films they were in\n",
    "# YOUR CODE HERE\n",
    "\n",
    "print(character_name + 'vwas in '+ str(movie_count) + ' movies.')\n"
   ]
  },
  {
   "cell_type": "code",
   "execution_count": 40,
   "metadata": {},
   "outputs": [
    {
     "name": "stdout",
     "output_type": "stream",
     "text": [
      "{\n",
      "    \"characters\": [\n",
      "        \"https://swapi.co/api/people/1/\",\n",
      "        \"https://swapi.co/api/people/2/\",\n",
      "        \"https://swapi.co/api/people/3/\",\n",
      "        \"https://swapi.co/api/people/4/\",\n",
      "        \"https://swapi.co/api/people/5/\",\n",
      "        \"https://swapi.co/api/people/10/\",\n",
      "        \"https://swapi.co/api/people/13/\",\n",
      "        \"https://swapi.co/api/people/14/\",\n",
      "        \"https://swapi.co/api/people/18/\",\n",
      "        \"https://swapi.co/api/people/20/\",\n",
      "        \"https://swapi.co/api/people/21/\",\n",
      "        \"https://swapi.co/api/people/22/\",\n",
      "        \"https://swapi.co/api/people/23/\",\n",
      "        \"https://swapi.co/api/people/24/\",\n",
      "        \"https://swapi.co/api/people/25/\",\n",
      "        \"https://swapi.co/api/people/26/\"\n",
      "    ],\n",
      "    \"created\": \"2014-12-12T11:26:24.656000Z\",\n",
      "    \"director\": \"Irvin Kershner\",\n",
      "    \"edited\": \"2017-04-19T10:57:29.544256Z\",\n",
      "    \"episode_id\": 5,\n",
      "    \"opening_crawl\": \"It is a dark time for the\\r\\nRebellion. Although the Death\\r\\nStar has been destroyed,\\r\\nImperial troops have driven the\\r\\nRebel forces from their hidden\\r\\nbase and pursued them across\\r\\nthe galaxy.\\r\\n\\r\\nEvading the dreaded Imperial\\r\\nStarfleet, a group of freedom\\r\\nfighters led by Luke Skywalker\\r\\nhas established a new secret\\r\\nbase on the remote ice world\\r\\nof Hoth.\\r\\n\\r\\nThe evil lord Darth Vader,\\r\\nobsessed with finding young\\r\\nSkywalker, has dispatched\\r\\nthousands of remote probes into\\r\\nthe far reaches of space....\",\n",
      "    \"planets\": [\n",
      "        \"https://swapi.co/api/planets/4/\",\n",
      "        \"https://swapi.co/api/planets/5/\",\n",
      "        \"https://swapi.co/api/planets/6/\",\n",
      "        \"https://swapi.co/api/planets/27/\"\n",
      "    ],\n",
      "    \"producer\": \"Gary Kurtz, Rick McCallum\",\n",
      "    \"release_date\": \"1980-05-17\",\n",
      "    \"species\": [\n",
      "        \"https://swapi.co/api/species/6/\",\n",
      "        \"https://swapi.co/api/species/7/\",\n",
      "        \"https://swapi.co/api/species/3/\",\n",
      "        \"https://swapi.co/api/species/2/\",\n",
      "        \"https://swapi.co/api/species/1/\"\n",
      "    ],\n",
      "    \"starships\": [\n",
      "        \"https://swapi.co/api/starships/15/\",\n",
      "        \"https://swapi.co/api/starships/10/\",\n",
      "        \"https://swapi.co/api/starships/11/\",\n",
      "        \"https://swapi.co/api/starships/12/\",\n",
      "        \"https://swapi.co/api/starships/21/\",\n",
      "        \"https://swapi.co/api/starships/22/\",\n",
      "        \"https://swapi.co/api/starships/23/\",\n",
      "        \"https://swapi.co/api/starships/3/\",\n",
      "        \"https://swapi.co/api/starships/17/\"\n",
      "    ],\n",
      "    \"title\": \"The Empire Strikes Back\",\n",
      "    \"url\": \"https://swapi.co/api/films/2/\",\n",
      "    \"vehicles\": [\n",
      "        \"https://swapi.co/api/vehicles/8/\",\n",
      "        \"https://swapi.co/api/vehicles/14/\",\n",
      "        \"https://swapi.co/api/vehicles/16/\",\n",
      "        \"https://swapi.co/api/vehicles/18/\",\n",
      "        \"https://swapi.co/api/vehicles/19/\",\n",
      "        \"https://swapi.co/api/vehicles/20/\"\n",
      "    ]\n",
      "}\n"
     ]
    }
   ],
   "source": [
    "film = requests.get(\"https://swapi.co/api/films/2/\").json()\n",
    "print(json.dumps(film, indent=4, sort_keys=True))"
   ]
  },
  {
   "cell_type": "code",
   "execution_count": 43,
   "metadata": {},
   "outputs": [
    {
     "ename": "AttributeError",
     "evalue": "'dict' object has no attribute 'json'",
     "output_type": "error",
     "traceback": [
      "\u001b[1;31m---------------------------------------------------------------------------\u001b[0m",
      "\u001b[1;31mAttributeError\u001b[0m                            Traceback (most recent call last)",
      "\u001b[1;32m<ipython-input-43-d43fcac0b22e>\u001b[0m in \u001b[0;36m<module>\u001b[1;34m()\u001b[0m\n\u001b[1;32m----> 1\u001b[1;33m \u001b[0mfilms\u001b[0m \u001b[1;33m=\u001b[0m \u001b[0mfilm\u001b[0m\u001b[1;33m.\u001b[0m\u001b[0mjson\u001b[0m\u001b[1;33m(\u001b[0m\u001b[1;33m)\u001b[0m\u001b[1;33m\u001b[0m\u001b[0m\n\u001b[0m\u001b[0;32m      2\u001b[0m \u001b[0mprint\u001b[0m\u001b[1;33m(\u001b[0m\u001b[0mfilms\u001b[0m\u001b[1;33m)\u001b[0m\u001b[1;33m\u001b[0m\u001b[0m\n",
      "\u001b[1;31mAttributeError\u001b[0m: 'dict' object has no attribute 'json'"
     ]
    }
   ],
   "source": [
    "films= []\n",
    "\n"
   ]
  },
  {
   "cell_type": "code",
   "execution_count": null,
   "metadata": {
    "collapsed": true
   },
   "outputs": [],
   "source": [
    "# Print what their first ship was\n",
    "# YOUR CODE HERE\n"
   ]
  }
 ],
 "metadata": {
  "kernelspec": {
   "display_name": "Python 3",
   "language": "python",
   "name": "python3"
  },
  "language_info": {
   "codemirror_mode": {
    "name": "ipython",
    "version": 3
   },
   "file_extension": ".py",
   "mimetype": "text/x-python",
   "name": "python",
   "nbconvert_exporter": "python",
   "pygments_lexer": "ipython3",
   "version": "3.6.4"
  },
  "varInspector": {
   "cols": {
    "lenName": 16,
    "lenType": 16,
    "lenVar": 40
   },
   "kernels_config": {
    "python": {
     "delete_cmd_postfix": "",
     "delete_cmd_prefix": "del ",
     "library": "var_list.py",
     "varRefreshCmd": "print(var_dic_list())"
    },
    "r": {
     "delete_cmd_postfix": ") ",
     "delete_cmd_prefix": "rm(",
     "library": "var_list.r",
     "varRefreshCmd": "cat(var_dic_list()) "
    }
   },
   "types_to_exclude": [
    "module",
    "function",
    "builtin_function_or_method",
    "instance",
    "_Feature"
   ],
   "window_display": false
  }
 },
 "nbformat": 4,
 "nbformat_minor": 2
}
