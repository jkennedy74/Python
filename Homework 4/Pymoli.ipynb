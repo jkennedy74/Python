{
 "cells": [
  {
   "cell_type": "markdown",
   "metadata": {},
   "source": [
    "# Heroes of Pymoli Analysis"
   ]
  },
  {
   "cell_type": "code",
   "execution_count": 122,
   "metadata": {},
   "outputs": [],
   "source": [
    "import json\n",
    "import pandas as pd\n",
    "import numpy as np\n"
   ]
  },
  {
   "cell_type": "code",
   "execution_count": 123,
   "metadata": {},
   "outputs": [
    {
     "data": {
      "text/html": [
       "<div>\n",
       "<style scoped>\n",
       "    .dataframe tbody tr th:only-of-type {\n",
       "        vertical-align: middle;\n",
       "    }\n",
       "\n",
       "    .dataframe tbody tr th {\n",
       "        vertical-align: top;\n",
       "    }\n",
       "\n",
       "    .dataframe thead th {\n",
       "        text-align: right;\n",
       "    }\n",
       "</style>\n",
       "<table border=\"1\" class=\"dataframe\">\n",
       "  <thead>\n",
       "    <tr style=\"text-align: right;\">\n",
       "      <th></th>\n",
       "      <th>Age</th>\n",
       "      <th>Gender</th>\n",
       "      <th>Item ID</th>\n",
       "      <th>Item Name</th>\n",
       "      <th>Price</th>\n",
       "      <th>SN</th>\n",
       "    </tr>\n",
       "  </thead>\n",
       "  <tbody>\n",
       "    <tr>\n",
       "      <th>0</th>\n",
       "      <td>38</td>\n",
       "      <td>Male</td>\n",
       "      <td>165</td>\n",
       "      <td>Bone Crushing Silver Skewer</td>\n",
       "      <td>3.37</td>\n",
       "      <td>Aelalis34</td>\n",
       "    </tr>\n",
       "    <tr>\n",
       "      <th>1</th>\n",
       "      <td>21</td>\n",
       "      <td>Male</td>\n",
       "      <td>119</td>\n",
       "      <td>Stormbringer, Dark Blade of Ending Misery</td>\n",
       "      <td>2.32</td>\n",
       "      <td>Eolo46</td>\n",
       "    </tr>\n",
       "    <tr>\n",
       "      <th>2</th>\n",
       "      <td>34</td>\n",
       "      <td>Male</td>\n",
       "      <td>174</td>\n",
       "      <td>Primitive Blade</td>\n",
       "      <td>2.46</td>\n",
       "      <td>Assastnya25</td>\n",
       "    </tr>\n",
       "    <tr>\n",
       "      <th>3</th>\n",
       "      <td>21</td>\n",
       "      <td>Male</td>\n",
       "      <td>92</td>\n",
       "      <td>Final Critic</td>\n",
       "      <td>1.36</td>\n",
       "      <td>Pheusrical25</td>\n",
       "    </tr>\n",
       "    <tr>\n",
       "      <th>4</th>\n",
       "      <td>23</td>\n",
       "      <td>Male</td>\n",
       "      <td>63</td>\n",
       "      <td>Stormfury Mace</td>\n",
       "      <td>1.27</td>\n",
       "      <td>Aela59</td>\n",
       "    </tr>\n",
       "  </tbody>\n",
       "</table>\n",
       "</div>"
      ],
      "text/plain": [
       "   Age Gender  Item ID                                  Item Name  Price  \\\n",
       "0   38   Male      165                Bone Crushing Silver Skewer   3.37   \n",
       "1   21   Male      119  Stormbringer, Dark Blade of Ending Misery   2.32   \n",
       "2   34   Male      174                            Primitive Blade   2.46   \n",
       "3   21   Male       92                               Final Critic   1.36   \n",
       "4   23   Male       63                             Stormfury Mace   1.27   \n",
       "\n",
       "             SN  \n",
       "0     Aelalis34  \n",
       "1        Eolo46  \n",
       "2   Assastnya25  \n",
       "3  Pheusrical25  \n",
       "4        Aela59  "
      ]
     },
     "execution_count": 123,
     "metadata": {},
     "output_type": "execute_result"
    }
   ],
   "source": [
    "df = pd.read_json('../Resources/purchase_data.json') \n",
    "\n",
    "\n",
    "df.head()"
   ]
  },
  {
   "cell_type": "markdown",
   "metadata": {},
   "source": [
    "## Player Count"
   ]
  },
  {
   "cell_type": "code",
   "execution_count": 124,
   "metadata": {},
   "outputs": [
    {
     "name": "stdout",
     "output_type": "stream",
     "text": [
      "Player Count:  573\n"
     ]
    }
   ],
   "source": [
    "player_count = df[\"SN\"].nunique()\n",
    "print(\"Player Count:  \" + str(player_count))\n"
   ]
  },
  {
   "cell_type": "markdown",
   "metadata": {},
   "source": [
    "## Purchasing Analysis (Total)"
   ]
  },
  {
   "cell_type": "code",
   "execution_count": 125,
   "metadata": {},
   "outputs": [],
   "source": [
    "# Number of Unique Items\n",
    "items = df[\"Item ID\"].nunique()\n",
    "\n",
    "# Average Purchase Price\n",
    "avg_pp = \"{:.2f}\".format(df[\"Price\"].mean())\n",
    "\n",
    "# Total Number of Purchases\n",
    "total_purchases = df[\"SN\"].count()\n",
    "\n",
    "# Total Revenue\n",
    "total_revenue = df[\"Price\"].sum()\n"
   ]
  },
  {
   "cell_type": "code",
   "execution_count": 126,
   "metadata": {},
   "outputs": [
    {
     "name": "stdout",
     "output_type": "stream",
     "text": [
      "Unique Items:  183\n",
      "Average Purchase Price:  2.93\n",
      "Total Purchases:  780\n",
      "Total Revenue:  2286.33\n"
     ]
    }
   ],
   "source": [
    "\n",
    "print(\"Unique Items:  \" + str(items))\n",
    "print(\"Average Purchase Price:  \" + str(avg_pp))\n",
    "print(\"Total Purchases:  \" + str(total_purchases))\n",
    "print(\"Total Revenue:  \" + str(total_revenue))\n"
   ]
  },
  {
   "cell_type": "markdown",
   "metadata": {},
   "source": [
    "## Gender Demographics"
   ]
  },
  {
   "cell_type": "code",
   "execution_count": 17,
   "metadata": {},
   "outputs": [],
   "source": [
    "gender_count = df.groupby('Gender', as_index = True)['SN'].nunique()\n",
    "\n",
    "# Percentage and Count of Male Players\n",
    "m = gender_count.loc[\"Male\"]\n",
    "pm =\"{:.2%}\".format(m/player_count)\n",
    "\n",
    "# Percentage and Count of Female Players\n",
    "f = gender_count.loc[\"Female\"]\n",
    "fm =\"{:.2%}\".format(f/player_count)\n",
    "\n",
    "# Percentage and Count of Other / Non-Disclosed\n",
    "o = gender_count.loc['Other / Non-Disclosed']\n",
    "om =\"{:.2%}\".format(o/player_count)\n",
    "\n"
   ]
  },
  {
   "cell_type": "code",
   "execution_count": 18,
   "metadata": {},
   "outputs": [
    {
     "name": "stdout",
     "output_type": "stream",
     "text": [
      "465 male players made up 81.15% of all players\n",
      "100 female players made up 17.45% of all players\n",
      "8 other/non-disclosed players made up 1.40% of all players\n"
     ]
    }
   ],
   "source": [
    "print(str(m) + \" male players made up \" + str(pm) + \" of all players\")\n",
    "print(str(f) + \" female players made up \" + str(fm) + \" of all players\")\n",
    "print(str(o) + \" other/non-disclosed players made up \" + str(om) + \" of all players\")"
   ]
  },
  {
   "cell_type": "markdown",
   "metadata": {},
   "source": [
    "## Purchasing Analysis (Gender)\n"
   ]
  },
  {
   "cell_type": "code",
   "execution_count": 129,
   "metadata": {},
   "outputs": [
    {
     "data": {
      "text/html": [
       "<div>\n",
       "<style scoped>\n",
       "    .dataframe tbody tr th:only-of-type {\n",
       "        vertical-align: middle;\n",
       "    }\n",
       "\n",
       "    .dataframe tbody tr th {\n",
       "        vertical-align: top;\n",
       "    }\n",
       "\n",
       "    .dataframe thead th {\n",
       "        text-align: right;\n",
       "    }\n",
       "</style>\n",
       "<table border=\"1\" class=\"dataframe\">\n",
       "  <thead>\n",
       "    <tr style=\"text-align: right;\">\n",
       "      <th></th>\n",
       "      <th>Total Purchased</th>\n",
       "      <th>Average Price</th>\n",
       "      <th>Total Price</th>\n",
       "    </tr>\n",
       "    <tr>\n",
       "      <th>Gender</th>\n",
       "      <th></th>\n",
       "      <th></th>\n",
       "      <th></th>\n",
       "    </tr>\n",
       "  </thead>\n",
       "  <tbody>\n",
       "    <tr>\n",
       "      <th>Female</th>\n",
       "      <td>96</td>\n",
       "      <td>2.815515</td>\n",
       "      <td>382.91</td>\n",
       "    </tr>\n",
       "    <tr>\n",
       "      <th>Male</th>\n",
       "      <td>180</td>\n",
       "      <td>2.950521</td>\n",
       "      <td>1867.68</td>\n",
       "    </tr>\n",
       "    <tr>\n",
       "      <th>Other / Non-Disclosed</th>\n",
       "      <td>11</td>\n",
       "      <td>3.249091</td>\n",
       "      <td>35.74</td>\n",
       "    </tr>\n",
       "  </tbody>\n",
       "</table>\n",
       "</div>"
      ],
      "text/plain": [
       "                       Total Purchased  Average Price  Total Price\n",
       "Gender                                                            \n",
       "Female                              96       2.815515       382.91\n",
       "Male                               180       2.950521      1867.68\n",
       "Other / Non-Disclosed               11       3.249091        35.74"
      ]
     },
     "execution_count": 129,
     "metadata": {},
     "output_type": "execute_result"
    }
   ],
   "source": [
    "# Purchase Count\n",
    "\n",
    "pc = df.groupby('Gender', as_index = True)['Item ID'].nunique()\n",
    "pc = pc.to_frame()\n",
    "\n",
    "# Average Purchase Price\n",
    "avp = df.groupby('Gender', as_index = True)['Price'].mean()\n",
    "avp = avp.to_frame()\n",
    "\n",
    "# Total Purchase Value\n",
    "tvp = df.groupby('Gender', as_index = True)['Price'].sum()\n",
    "tvp = tvp.to_frame()\n",
    "\n",
    "\n",
    "gender_df = pc.merge(avp, left_index =True,right_index=True)\n",
    "gender_df = gender_df.merge(tvp, left_index =True,right_index=True)\n",
    "gender_df = gender_df.rename(index=str, columns={\"Item ID\": \"Total Purchased\", \"Price_x\": \"Average Price\", \"Price_y\": \"Total Price\"})\n",
    "gender_df.head()"
   ]
  },
  {
   "cell_type": "markdown",
   "metadata": {},
   "source": [
    "## Age Demographics\n",
    "\n",
    "\n",
    "The below each broken into bins of 4 years (i.e. <10, 10-14, 15-19, etc.) \n",
    "\n",
    "\n",
    "Purchase Count\n",
    "Average Purchase Price\n",
    "Total Purchase Value\n",
    "Normalized Totals"
   ]
  },
  {
   "cell_type": "code",
   "execution_count": 130,
   "metadata": {},
   "outputs": [],
   "source": [
    "bins = [0, 9, 14, 19, 24, 29, 34, 39, 44]\n",
    "\n",
    "group_names = ['<10', '10-14', '15-19', '20-24','25-29' , '30-34', '35-39','>40' ] \n",
    "\n",
    "\n",
    "df[\"Age Range\"]=pd.cut(df[\"Age\"], bins, labels=group_names)\n"
   ]
  },
  {
   "cell_type": "code",
   "execution_count": 131,
   "metadata": {},
   "outputs": [],
   "source": [
    "age_pc = df.groupby('Age Range', as_index = True)['Item ID'].nunique()\n",
    "age_app = df.groupby('Age Range', as_index = True)['Price'].mean()\n",
    "age_tpv = df.groupby('Age Range', as_index = True)['Price'].sum()\n",
    "\n",
    "age_pc = age_pc.to_frame()\n",
    "age_app = age_app.to_frame()\n",
    "age_tpv = age_tpv.to_frame()\n",
    "\n"
   ]
  },
  {
   "cell_type": "code",
   "execution_count": 19,
   "metadata": {},
   "outputs": [
    {
     "data": {
      "text/html": [
       "<div>\n",
       "<style scoped>\n",
       "    .dataframe tbody tr th:only-of-type {\n",
       "        vertical-align: middle;\n",
       "    }\n",
       "\n",
       "    .dataframe tbody tr th {\n",
       "        vertical-align: top;\n",
       "    }\n",
       "\n",
       "    .dataframe thead th {\n",
       "        text-align: right;\n",
       "    }\n",
       "</style>\n",
       "<table border=\"1\" class=\"dataframe\">\n",
       "  <thead>\n",
       "    <tr style=\"text-align: right;\">\n",
       "      <th></th>\n",
       "      <th>Total Purchased</th>\n",
       "      <th>Average Price</th>\n",
       "      <th>Total Price</th>\n",
       "    </tr>\n",
       "    <tr>\n",
       "      <th>Age Range</th>\n",
       "      <th></th>\n",
       "      <th></th>\n",
       "      <th></th>\n",
       "    </tr>\n",
       "  </thead>\n",
       "  <tbody>\n",
       "    <tr>\n",
       "      <th>&lt;10</th>\n",
       "      <td>24</td>\n",
       "      <td>2.980714</td>\n",
       "      <td>83.46</td>\n",
       "    </tr>\n",
       "    <tr>\n",
       "      <th>10-14</th>\n",
       "      <td>32</td>\n",
       "      <td>2.770000</td>\n",
       "      <td>96.95</td>\n",
       "    </tr>\n",
       "    <tr>\n",
       "      <th>15-19</th>\n",
       "      <td>91</td>\n",
       "      <td>2.905414</td>\n",
       "      <td>386.42</td>\n",
       "    </tr>\n",
       "    <tr>\n",
       "      <th>20-24</th>\n",
       "      <td>158</td>\n",
       "      <td>2.913006</td>\n",
       "      <td>978.77</td>\n",
       "    </tr>\n",
       "    <tr>\n",
       "      <th>25-29</th>\n",
       "      <td>89</td>\n",
       "      <td>2.962640</td>\n",
       "      <td>370.33</td>\n",
       "    </tr>\n",
       "    <tr>\n",
       "      <th>30-34</th>\n",
       "      <td>57</td>\n",
       "      <td>3.082031</td>\n",
       "      <td>197.25</td>\n",
       "    </tr>\n",
       "    <tr>\n",
       "      <th>35-39</th>\n",
       "      <td>37</td>\n",
       "      <td>2.842857</td>\n",
       "      <td>119.40</td>\n",
       "    </tr>\n",
       "    <tr>\n",
       "      <th>&gt;40</th>\n",
       "      <td>16</td>\n",
       "      <td>3.189375</td>\n",
       "      <td>51.03</td>\n",
       "    </tr>\n",
       "  </tbody>\n",
       "</table>\n",
       "</div>"
      ],
      "text/plain": [
       "           Total Purchased  Average Price  Total Price\n",
       "Age Range                                             \n",
       "<10                     24       2.980714        83.46\n",
       "10-14                   32       2.770000        96.95\n",
       "15-19                   91       2.905414       386.42\n",
       "20-24                  158       2.913006       978.77\n",
       "25-29                   89       2.962640       370.33\n",
       "30-34                   57       3.082031       197.25\n",
       "35-39                   37       2.842857       119.40\n",
       ">40                     16       3.189375        51.03"
      ]
     },
     "execution_count": 19,
     "metadata": {},
     "output_type": "execute_result"
    }
   ],
   "source": [
    "age_df = age_pc.merge(age_app, left_index =True,right_index=True)\n",
    "age_df = age_df.merge(age_tpv, left_index =True,right_index=True)\n",
    "age_df = age_df.rename(index=str, columns={\"Item ID\": \"Total Purchased\", \"Price_x\": \"Average Price\", \"Price_y\": \"Total Price\"})\n",
    "age_df.head(10)"
   ]
  },
  {
   "cell_type": "markdown",
   "metadata": {},
   "source": [
    "## Top Spenders"
   ]
  },
  {
   "cell_type": "code",
   "execution_count": 139,
   "metadata": {},
   "outputs": [],
   "source": [
    "spender_df = df.groupby('SN')['Price'].sum()\n",
    "spender_df = spender_df.to_frame()\n",
    "spender_df[\"Purchase Count\"] = df.groupby('SN')[\"Item ID\"].count()\n",
    "spender_df[\"Average Price\"] = df.groupby('SN')[\"Price\"].mean()\n",
    "spender_df[\"Total Price\"] = df.groupby('SN')[\"Price\"].sum()\n"
   ]
  },
  {
   "cell_type": "markdown",
   "metadata": {},
   "source": [
    "### Top Spenders"
   ]
  },
  {
   "cell_type": "code",
   "execution_count": 141,
   "metadata": {},
   "outputs": [
    {
     "data": {
      "text/html": [
       "<div>\n",
       "<style scoped>\n",
       "    .dataframe tbody tr th:only-of-type {\n",
       "        vertical-align: middle;\n",
       "    }\n",
       "\n",
       "    .dataframe tbody tr th {\n",
       "        vertical-align: top;\n",
       "    }\n",
       "\n",
       "    .dataframe thead th {\n",
       "        text-align: right;\n",
       "    }\n",
       "</style>\n",
       "<table border=\"1\" class=\"dataframe\">\n",
       "  <thead>\n",
       "    <tr style=\"text-align: right;\">\n",
       "      <th></th>\n",
       "      <th>Price</th>\n",
       "      <th>Purchase Count</th>\n",
       "      <th>Average Price</th>\n",
       "      <th>Total Price</th>\n",
       "    </tr>\n",
       "    <tr>\n",
       "      <th>SN</th>\n",
       "      <th></th>\n",
       "      <th></th>\n",
       "      <th></th>\n",
       "      <th></th>\n",
       "    </tr>\n",
       "  </thead>\n",
       "  <tbody>\n",
       "    <tr>\n",
       "      <th>Undirrala66</th>\n",
       "      <td>17.06</td>\n",
       "      <td>5</td>\n",
       "      <td>3.412000</td>\n",
       "      <td>17.06</td>\n",
       "    </tr>\n",
       "    <tr>\n",
       "      <th>Saedue76</th>\n",
       "      <td>13.56</td>\n",
       "      <td>4</td>\n",
       "      <td>3.390000</td>\n",
       "      <td>13.56</td>\n",
       "    </tr>\n",
       "    <tr>\n",
       "      <th>Mindimnya67</th>\n",
       "      <td>12.74</td>\n",
       "      <td>4</td>\n",
       "      <td>3.185000</td>\n",
       "      <td>12.74</td>\n",
       "    </tr>\n",
       "    <tr>\n",
       "      <th>Haellysu29</th>\n",
       "      <td>12.73</td>\n",
       "      <td>3</td>\n",
       "      <td>4.243333</td>\n",
       "      <td>12.73</td>\n",
       "    </tr>\n",
       "    <tr>\n",
       "      <th>Eoda93</th>\n",
       "      <td>11.58</td>\n",
       "      <td>3</td>\n",
       "      <td>3.860000</td>\n",
       "      <td>11.58</td>\n",
       "    </tr>\n",
       "  </tbody>\n",
       "</table>\n",
       "</div>"
      ],
      "text/plain": [
       "             Price  Purchase Count  Average Price  Total Price\n",
       "SN                                                            \n",
       "Undirrala66  17.06               5       3.412000        17.06\n",
       "Saedue76     13.56               4       3.390000        13.56\n",
       "Mindimnya67  12.74               4       3.185000        12.74\n",
       "Haellysu29   12.73               3       4.243333        12.73\n",
       "Eoda93       11.58               3       3.860000        11.58"
      ]
     },
     "execution_count": 141,
     "metadata": {},
     "output_type": "execute_result"
    }
   ],
   "source": [
    "spender_df.nlargest(5, \"Price\")\n"
   ]
  },
  {
   "cell_type": "markdown",
   "metadata": {},
   "source": [
    "## Most Popular Items"
   ]
  },
  {
   "cell_type": "markdown",
   "metadata": {},
   "source": [
    "### Most Popular by Purchase Count"
   ]
  },
  {
   "cell_type": "code",
   "execution_count": 142,
   "metadata": {},
   "outputs": [
    {
     "data": {
      "text/html": [
       "<div>\n",
       "<style scoped>\n",
       "    .dataframe tbody tr th:only-of-type {\n",
       "        vertical-align: middle;\n",
       "    }\n",
       "\n",
       "    .dataframe tbody tr th {\n",
       "        vertical-align: top;\n",
       "    }\n",
       "\n",
       "    .dataframe thead th {\n",
       "        text-align: right;\n",
       "    }\n",
       "</style>\n",
       "<table border=\"1\" class=\"dataframe\">\n",
       "  <thead>\n",
       "    <tr style=\"text-align: right;\">\n",
       "      <th></th>\n",
       "      <th>Price</th>\n",
       "      <th>Item Name</th>\n",
       "      <th>Purchase Count</th>\n",
       "      <th>Total Price</th>\n",
       "    </tr>\n",
       "    <tr>\n",
       "      <th>Item ID</th>\n",
       "      <th></th>\n",
       "      <th></th>\n",
       "      <th></th>\n",
       "      <th></th>\n",
       "    </tr>\n",
       "  </thead>\n",
       "  <tbody>\n",
       "    <tr>\n",
       "      <th>39</th>\n",
       "      <td>2.35</td>\n",
       "      <td>Stormfury Mace</td>\n",
       "      <td>11</td>\n",
       "      <td>25.85</td>\n",
       "    </tr>\n",
       "    <tr>\n",
       "      <th>84</th>\n",
       "      <td>2.23</td>\n",
       "      <td>Thorn, Satchel of Dark Souls</td>\n",
       "      <td>11</td>\n",
       "      <td>24.53</td>\n",
       "    </tr>\n",
       "    <tr>\n",
       "      <th>13</th>\n",
       "      <td>1.49</td>\n",
       "      <td>Piety, Guardian of Riddles</td>\n",
       "      <td>9</td>\n",
       "      <td>13.41</td>\n",
       "    </tr>\n",
       "    <tr>\n",
       "      <th>31</th>\n",
       "      <td>2.07</td>\n",
       "      <td>Shadow Strike, Glory of Ending Hope</td>\n",
       "      <td>9</td>\n",
       "      <td>18.63</td>\n",
       "    </tr>\n",
       "    <tr>\n",
       "      <th>34</th>\n",
       "      <td>4.14</td>\n",
       "      <td>Alpha, Reach of Ending Hope</td>\n",
       "      <td>9</td>\n",
       "      <td>37.26</td>\n",
       "    </tr>\n",
       "  </tbody>\n",
       "</table>\n",
       "</div>"
      ],
      "text/plain": [
       "         Price                            Item Name  Purchase Count  \\\n",
       "Item ID                                                               \n",
       "39        2.35                       Stormfury Mace              11   \n",
       "84        2.23         Thorn, Satchel of Dark Souls              11   \n",
       "13        1.49           Piety, Guardian of Riddles               9   \n",
       "31        2.07  Shadow Strike, Glory of Ending Hope               9   \n",
       "34        4.14          Alpha, Reach of Ending Hope               9   \n",
       "\n",
       "         Total Price  \n",
       "Item ID               \n",
       "39             25.85  \n",
       "84             24.53  \n",
       "13             13.41  \n",
       "31             18.63  \n",
       "34             37.26  "
      ]
     },
     "execution_count": 142,
     "metadata": {},
     "output_type": "execute_result"
    }
   ],
   "source": [
    "popular_df = df.groupby('Item ID')['Price'].max()\n",
    "popular_df = popular_df.to_frame()\n",
    "popular_df[\"Item Name\"] = df[\"Item Name\"]\n",
    "popular_df[\"Purchase Count\"] = df.groupby('Item ID')[\"Item ID\"].count()\n",
    "popular_df[\"Total Price\"] = df.groupby('Item ID')[\"Price\"].sum()\n",
    "\n",
    "popular_df.nlargest(5, \"Purchase Count\")\n"
   ]
  },
  {
   "cell_type": "markdown",
   "metadata": {},
   "source": [
    "### Most Popular by Total Price"
   ]
  },
  {
   "cell_type": "code",
   "execution_count": 143,
   "metadata": {
    "scrolled": true
   },
   "outputs": [
    {
     "data": {
      "text/html": [
       "<div>\n",
       "<style scoped>\n",
       "    .dataframe tbody tr th:only-of-type {\n",
       "        vertical-align: middle;\n",
       "    }\n",
       "\n",
       "    .dataframe tbody tr th {\n",
       "        vertical-align: top;\n",
       "    }\n",
       "\n",
       "    .dataframe thead th {\n",
       "        text-align: right;\n",
       "    }\n",
       "</style>\n",
       "<table border=\"1\" class=\"dataframe\">\n",
       "  <thead>\n",
       "    <tr style=\"text-align: right;\">\n",
       "      <th></th>\n",
       "      <th>Price</th>\n",
       "      <th>Item Name</th>\n",
       "      <th>Purchase Count</th>\n",
       "      <th>Total Price</th>\n",
       "    </tr>\n",
       "    <tr>\n",
       "      <th>Item ID</th>\n",
       "      <th></th>\n",
       "      <th></th>\n",
       "      <th></th>\n",
       "      <th></th>\n",
       "    </tr>\n",
       "  </thead>\n",
       "  <tbody>\n",
       "    <tr>\n",
       "      <th>34</th>\n",
       "      <td>4.14</td>\n",
       "      <td>Alpha, Reach of Ending Hope</td>\n",
       "      <td>9</td>\n",
       "      <td>37.26</td>\n",
       "    </tr>\n",
       "    <tr>\n",
       "      <th>115</th>\n",
       "      <td>4.25</td>\n",
       "      <td>Thorn, Conqueror of the Corrupted</td>\n",
       "      <td>7</td>\n",
       "      <td>29.75</td>\n",
       "    </tr>\n",
       "    <tr>\n",
       "      <th>32</th>\n",
       "      <td>4.95</td>\n",
       "      <td>Rage, Legacy of the Lone Victor</td>\n",
       "      <td>6</td>\n",
       "      <td>29.70</td>\n",
       "    </tr>\n",
       "    <tr>\n",
       "      <th>103</th>\n",
       "      <td>4.87</td>\n",
       "      <td>Mercy, Katana of Dismay</td>\n",
       "      <td>6</td>\n",
       "      <td>29.22</td>\n",
       "    </tr>\n",
       "    <tr>\n",
       "      <th>107</th>\n",
       "      <td>3.61</td>\n",
       "      <td>Spectral Diamond Doomblade</td>\n",
       "      <td>8</td>\n",
       "      <td>28.88</td>\n",
       "    </tr>\n",
       "  </tbody>\n",
       "</table>\n",
       "</div>"
      ],
      "text/plain": [
       "         Price                          Item Name  Purchase Count  Total Price\n",
       "Item ID                                                                       \n",
       "34        4.14        Alpha, Reach of Ending Hope               9        37.26\n",
       "115       4.25  Thorn, Conqueror of the Corrupted               7        29.75\n",
       "32        4.95    Rage, Legacy of the Lone Victor               6        29.70\n",
       "103       4.87            Mercy, Katana of Dismay               6        29.22\n",
       "107       3.61         Spectral Diamond Doomblade               8        28.88"
      ]
     },
     "execution_count": 143,
     "metadata": {},
     "output_type": "execute_result"
    }
   ],
   "source": [
    "popular_df.nlargest(5, \"Total Price\")"
   ]
  },
  {
   "cell_type": "markdown",
   "metadata": {},
   "source": [
    "## Incites from Analysis\n",
    "\n",
    "1 - More men buy items in Pymoli than women.\n",
    "2 - However this could be skewed by the fact that there are more male players.  \n",
    "3 - The largest slice in the age demographic by total purchases and price are people between 20-24"
   ]
  },
  {
   "cell_type": "code",
   "execution_count": null,
   "metadata": {},
   "outputs": [],
   "source": []
  }
 ],
 "metadata": {
  "kernelspec": {
   "display_name": "Python 3",
   "language": "python",
   "name": "python3"
  },
  "language_info": {
   "codemirror_mode": {
    "name": "ipython",
    "version": 3
   },
   "file_extension": ".py",
   "mimetype": "text/x-python",
   "name": "python",
   "nbconvert_exporter": "python",
   "pygments_lexer": "ipython3",
   "version": "3.6.4"
  }
 },
 "nbformat": 4,
 "nbformat_minor": 2
}
