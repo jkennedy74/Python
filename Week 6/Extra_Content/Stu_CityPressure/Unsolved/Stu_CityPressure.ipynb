{
 "cells": [
  {
   "cell_type": "code",
   "execution_count": 16,
   "metadata": {},
   "outputs": [],
   "source": [
    "# Dependencies\n",
    "import csv\n",
    "import matplotlib.pyplot as plt\n",
    "import requests\n",
    "import pandas as pd\n",
    "from pprint import pprint\n",
    "\n",
    "#import api_key\n",
    "from config import api_key"
   ]
  },
  {
   "cell_type": "code",
   "execution_count": 17,
   "metadata": {},
   "outputs": [],
   "source": [
    "# Save config information.\n",
    "url = \"http://api.openweathermap.org/data/2.5/weather?\"\n",
    "units = \"metric\"\n",
    "api_key = '25bc90a1196e6f153eece0bc0b0fc9eb'"
   ]
  },
  {
   "cell_type": "code",
   "execution_count": 18,
   "metadata": {},
   "outputs": [
    {
     "data": {
      "text/plain": [
       "'http://api.openweathermap.org/data/2.5/weather?appid=25bc90a1196e6f153eece0bc0b0fc9eb&q=London'"
      ]
     },
     "execution_count": 18,
     "metadata": {},
     "output_type": "execute_result"
    }
   ],
   "source": [
    "# Build partial query URL\n",
    "query_url = url + \"appid=\" + api_key + \"&q=\" + \"London\"\n",
    "query_url"
   ]
  },
  {
   "cell_type": "code",
   "execution_count": 26,
   "metadata": {},
   "outputs": [
    {
     "name": "stdout",
     "output_type": "stream",
     "text": [
      "{'base': 'stations',\n",
      " 'clouds': {'all': 0},\n",
      " 'cod': 200,\n",
      " 'coord': {'lat': 51.51, 'lon': -0.13},\n",
      " 'dt': 1526608200,\n",
      " 'id': 2643743,\n",
      " 'main': {'humidity': 81,\n",
      "          'pressure': 1026,\n",
      "          'temp': 279.14,\n",
      "          'temp_max': 281.15,\n",
      "          'temp_min': 277.15},\n",
      " 'name': 'London',\n",
      " 'sys': {'country': 'GB',\n",
      "         'id': 5091,\n",
      "         'message': 0.005,\n",
      "         'sunrise': 1526616267,\n",
      "         'sunset': 1526673023,\n",
      "         'type': 1},\n",
      " 'visibility': 10000,\n",
      " 'weather': [{'description': 'clear sky',\n",
      "              'icon': '01n',\n",
      "              'id': 800,\n",
      "              'main': 'Clear'}],\n",
      " 'wind': {'deg': 340, 'speed': 1.5}}\n"
     ]
    }
   ],
   "source": [
    "test = requests.get(query_url).json()\n",
    "pprint(test)"
   ]
  },
  {
   "cell_type": "code",
   "execution_count": 39,
   "metadata": {},
   "outputs": [
    {
     "name": "stdout",
     "output_type": "stream",
     "text": [
      "London [{'id': 800, 'main': 'Clear', 'description': 'clear sky', 'icon': '01n'}]\n",
      "Paris [{'id': 800, 'main': 'Clear', 'description': 'clear sky', 'icon': '01n'}]\n",
      "Las Vegas [{'id': 800, 'main': 'Clear', 'description': 'clear sky', 'icon': '01n'}]\n",
      "Stockholm [{'id': 800, 'main': 'Clear', 'description': 'clear sky', 'icon': '01n'}]\n",
      "Sydney [{'id': 800, 'main': 'Clear', 'description': 'clear sky', 'icon': '01n'}]\n",
      "Hong Kong [{'id': 800, 'main': 'Clear', 'description': 'clear sky', 'icon': '01n'}]\n"
     ]
    }
   ],
   "source": [
    "# list of cities to query\n",
    "cities = [\"London\", \"Paris\", \"Las Vegas\", \"Stockholm\", \"Sydney\", \"Hong Kong\"]\n",
    "\n",
    "for city in cities:\n",
    "    city_weather = test[\"weather\"]\n",
    "    print (f'{city} {city_weather}')"
   ]
  },
  {
   "cell_type": "code",
   "execution_count": null,
   "metadata": {},
   "outputs": [],
   "source": []
  },
  {
   "cell_type": "code",
   "execution_count": 11,
   "metadata": {},
   "outputs": [
    {
     "ename": "SyntaxError",
     "evalue": "unexpected EOF while parsing (<ipython-input-11-1d4ee275c495>, line 9)",
     "output_type": "error",
     "traceback": [
      "\u001b[1;36m  File \u001b[1;32m\"<ipython-input-11-1d4ee275c495>\"\u001b[1;36m, line \u001b[1;32m9\u001b[0m\n\u001b[1;33m    # loop through cities, make API request, and append desired results\u001b[0m\n\u001b[1;37m                                                                       ^\u001b[0m\n\u001b[1;31mSyntaxError\u001b[0m\u001b[1;31m:\u001b[0m unexpected EOF while parsing\n"
     ]
    }
   ],
   "source": [
    "\n",
    "# list for response results\n",
    "for city in cities:\n",
    "    print(f'{query_url}&q={city})'\n",
    "          \n",
    "\n",
    "\n",
    "# loop through cities, make API request, and append desired results"
   ]
  },
  {
   "cell_type": "code",
   "execution_count": null,
   "metadata": {},
   "outputs": [],
   "source": [
    "# build a dataframe from the cities, lon,and pressure lists\n"
   ]
  },
  {
   "cell_type": "code",
   "execution_count": null,
   "metadata": {},
   "outputs": [],
   "source": [
    "# Build a scatter plot for each data type\n",
    "\n",
    "\n",
    "# Incorporate the other graph properties\n",
    "\n",
    "\n",
    "# Save the figure\n",
    "\n",
    "\n",
    "# Show plot"
   ]
  }
 ],
 "metadata": {
  "anaconda-cloud": {},
  "kernelspec": {
   "display_name": "Python 3",
   "language": "python",
   "name": "python3"
  },
  "language_info": {
   "codemirror_mode": {
    "name": "ipython",
    "version": 3
   },
   "file_extension": ".py",
   "mimetype": "text/x-python",
   "name": "python",
   "nbconvert_exporter": "python",
   "pygments_lexer": "ipython3",
   "version": "3.6.4"
  }
 },
 "nbformat": 4,
 "nbformat_minor": 1
}
